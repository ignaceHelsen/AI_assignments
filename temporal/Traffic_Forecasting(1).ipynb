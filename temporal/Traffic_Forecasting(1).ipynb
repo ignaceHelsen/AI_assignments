{
 "cells": [
  {
   "cell_type": "markdown",
   "id": "72015640-6ba4-44d1-ac08-0a0177dd898b",
   "metadata": {},
   "source": [
    "# Import stuff"
   ]
  },
  {
   "cell_type": "code",
   "execution_count": 2,
   "id": "57308ae4-94ec-4141-9a8a-dc66e37d4373",
   "metadata": {},
   "outputs": [],
   "source": [
    "import os\n",
    "import wget\n",
    "import zipfile\n",
    "\n",
    "import numpy as np\n",
    "import pandas as pd\n",
    "\n",
    "import matplotlib.pyplot as plt\n",
    "\n",
    "import torch\n",
    "import torch.nn as nn\n",
    "from torch.autograd import Variable\n",
    "from torch.utils.data import Dataset, DataLoader"
   ]
  },
  {
   "cell_type": "code",
   "execution_count": 3,
   "id": "719e53a6-11d5-4a0a-9d00-07e6c803aa82",
   "metadata": {},
   "outputs": [],
   "source": [
    "%matplotlib inline"
   ]
  },
  {
   "cell_type": "markdown",
   "id": "ddfe3022-a5f8-4269-919a-862662073a02",
   "metadata": {},
   "source": [
    "# Download and extract dataset"
   ]
  },
  {
   "cell_type": "code",
   "execution_count": 4,
   "id": "caa3dd34-f1d9-4115-80a2-50824bb7ba67",
   "metadata": {},
   "outputs": [],
   "source": [
    "current_dir = os.getcwd()\n",
    "if not os.path.exists(os.path.join(current_dir, \"METR-LA.zip\")):\n",
    "    URL = \"https://graphmining.ai/temporal_datasets/METR-LA.zip\"\n",
    "    FILE = wget.download(URL, \"METR-LA.zip\")\n",
    "\n",
    "if not os.path.exists(os.path.join(current_dir, \"METR-LA\")):\n",
    "    with zipfile.ZipFile(os.path.join(current_dir, \"METR-LA.zip\"), 'r') as zip_ref:\n",
    "        zip_ref.extractall(os.path.join(current_dir,\"METR-LA\") )"
   ]
  },
  {
   "cell_type": "markdown",
   "id": "9e862209-dc2c-46c6-8a0e-ee3562ae1ef5",
   "metadata": {},
   "source": [
    "# Loading dataset into the memory"
   ]
  },
  {
   "cell_type": "code",
   "execution_count": 5,
   "id": "26a38fab-a784-488b-abc5-b1c9900ecf81",
   "metadata": {},
   "outputs": [],
   "source": [
    "data_path = os.path.join(current_dir, \"METR-LA\")\n",
    "t_series_path = os.path.join(data_path, \"node_values.npy\")\n",
    "\n",
    "t_series = # TODO Load dataset here\n",
    "t_series = t_series.astype(np.float32)"
   ]
  },
  {
   "cell_type": "code",
   "execution_count": 6,
   "id": "fe6cb8d4-3174-4bb6-b086-823f5ddd1d48",
   "metadata": {},
   "outputs": [
    {
     "data": {
      "text/plain": [
       "(207, 2, 34272)"
      ]
     },
     "execution_count": 6,
     "metadata": {},
     "output_type": "execute_result"
    }
   ],
   "source": [
    "t_series.shape # No of sensors ,feats(speed and flow), No of steps"
   ]
  },
  {
   "cell_type": "code",
   "execution_count": 7,
   "id": "ffc9f6d8-dd0e-47cd-aee9-8b60f21ef7aa",
   "metadata": {},
   "outputs": [
    {
     "data": {
      "text/plain": [
       "[<matplotlib.lines.Line2D at 0x7f65f88fdc90>]"
      ]
     },
     "execution_count": 7,
     "metadata": {},
     "output_type": "execute_result"
    },
    {
     "data": {
      "image/png": "[encoded data removed]",
      "text/plain": [
       "<Figure size 432x288 with 1 Axes>"
      ]
     },
     "metadata": {
      "needs_background": "light"
     },
     "output_type": "display_data"
    }
   ],
   "source": [
    "sensor_id = 1 \n",
    "speed_index = 0\n",
    "\n",
    "# TODO plot first 100 timesteps of the 1 node"
   ]
  },
  {
   "cell_type": "markdown",
   "id": "6dd948c1-8b38-4af3-80f1-9dea59769c73",
   "metadata": {},
   "source": [
    "# Handling missing values\n",
    "## Exercise\n",
    "### Pick one of them and implement it\n",
    "## Replacing with the maximum value\n",
    "Makes sense here because when the values are zero, the sensor didn't detect a vehicle in a 5 minutes interval. So we can assume that a vehicle can go at maximum speed"
   ]
  },
  {
   "cell_type": "markdown",
   "id": "b71a27c8-feff-450e-9243-bfffb44b9cd4",
   "metadata": {},
   "source": [
    "### Replacing with mean value in training set\n",
    "### Replacing with the last observed value"
   ]
  },
  {
   "cell_type": "code",
   "execution_count": null,
   "id": "1dfff9bb-fe37-43a6-ad94-f1a071d1c209",
   "metadata": {},
   "outputs": [],
   "source": []
  },
  {
   "cell_type": "markdown",
   "id": "d89259ad-b57c-4c7c-890a-90161c789c3b",
   "metadata": {},
   "source": [
    "## Data Standardization & Normalization"
   ]
  },
  {
   "cell_type": "markdown",
   "id": "459cbf1e-7533-470d-ab79-022f9ec1abb1",
   "metadata": {},
   "source": [
    "### Min-Max normalization\n",
    "## $x_{scaled} = \\frac{value - min}{max - min}$"
   ]
  },
  {
   "cell_type": "markdown",
   "id": "fcb0cb5c-ba17-47e1-b097-c90cd658410f",
   "metadata": {},
   "source": [
    "### Z-score normalization\n",
    "## $x_{scaled} = \\frac{value - \\mu}{\\sigma}$"
   ]
  },
  {
   "cell_type": "markdown",
   "id": "c48bb7f0-1d25-4121-9ac4-ab6a0e64f9e2",
   "metadata": {},
   "source": [
    "## Excercise: Choose one method and implement it"
   ]
  },
  {
   "cell_type": "code",
   "execution_count": null,
   "id": "d3ae7c71-60bc-4be2-83db-0f345202cdf1",
   "metadata": {},
   "outputs": [],
   "source": [
    "# TODO Data Normalization"
   ]
  },
  {
   "cell_type": "code",
   "execution_count": 15,
   "id": "f7ebe0b5-a8a6-4e58-988d-36cbf664ddf1",
   "metadata": {},
   "outputs": [],
   "source": [
    "in_steps = 12\n",
    "out_steps = 12\n",
    "\n",
    "# TODO: Transform the data to the shape in the next cell"
   ]
  },
  {
   "cell_type": "code",
   "execution_count": 16,
   "id": "4ecf6599-5a6e-4d9b-81ba-8dee25f8a8a9",
   "metadata": {},
   "outputs": [
    {
     "name": "stdout",
     "output_type": "stream",
     "text": [
      "features (34249, 12, 207, 2)\n",
      "target (34249, 12, 207, 2)\n"
     ]
    }
   ],
   "source": [
    "print(\"features\", features.shape)  # No of steps, input_len, No of sensors ,(speed and flow)\n",
    "print(\"target\", target.shape)      # No of steps, input_len, No of sensors ,(speed and flow)"
   ]
  },
  {
   "cell_type": "code",
   "execution_count": 17,
   "id": "b37c93f9-a1c0-47ad-a0ac-a5bfd52e4ca2",
   "metadata": {},
   "outputs": [
    {
     "data": {
      "text/plain": [
       "((23990, 12, 207, 2), (23990, 12, 207, 2))"
      ]
     },
     "execution_count": 17,
     "metadata": {},
     "output_type": "execute_result"
    }
   ],
   "source": [
    "train_percentage = .7\n",
    "valid_percentage = .1\n",
    "test_percentage  = .2\n",
    "\n",
    "len_dataset = len(t_series[sensor_id, 0, :])\n",
    "\n",
    "start_train = 0\n",
    "end_train   = round(len_dataset * train_percentage)\n",
    "\n",
    "start_valid = end_train\n",
    "end_valid   = round(start_valid + len_dataset * valid_percentage)\n",
    "\n",
    "start_test = end_valid\n",
    "end_test   = round(start_test + len_dataset * test_percentage)\n",
    "\n",
    "X_train = features[start_train:end_train, :, :, :]\n",
    "y_train = target[start_train:end_train, :, :, :]\n",
    "\n",
    "X_valid = features[start_valid:end_valid, :, :, :]\n",
    "y_valid = target[start_valid:end_valid, :, :, :]\n",
    "\n",
    "X_test  = features[start_test:end_test, :, :, :]\n",
    "y_test  = target[start_test:end_test, :, :, :]\n",
    "\n",
    "X_train.shape, y_train.shape"
   ]
  },
  {
   "cell_type": "code",
   "execution_count": 18,
   "id": "f827d3f5-98f2-48df-858e-55e1cc3b1e71",
   "metadata": {},
   "outputs": [],
   "source": [
    "class MetrLA(Dataset):   \n",
    "    def __init__(self, X, y, seq_len):\n",
    "        self.X = X\n",
    "        self.y = y\n",
    "        self.seq_len = seq_len\n",
    "\n",
    "    def __len__(self):\n",
    "        return self.X.__len__() - (self.seq_len-1)\n",
    "\n",
    "    def __getitem__(self, index):\n",
    "        return {'X': self.X[index, :, :, :], 'y': self.y[index, :, :, :]}"
   ]
  },
  {
   "cell_type": "code",
   "execution_count": 19,
   "id": "baa50869-d515-4179-a56e-47dd69e3d998",
   "metadata": {},
   "outputs": [],
   "source": [
    "batch_size = 128\n",
    "\n",
    "train_dataset = MetrLA(X_train, y_train, seq_len=12)\n",
    "train_loader = DataLoader(train_dataset, batch_size = batch_size, shuffle = True)\n",
    "\n",
    "valid_dataset = MetrLA(X_valid, y_valid, seq_len=12)\n",
    "valid_loader = DataLoader(valid_dataset, batch_size = batch_size, shuffle = True)\n",
    "\n",
    "test_dataset = MetrLA(X_test, y_test, seq_len=12)\n",
    "test_loader = DataLoader(test_dataset, batch_size = batch_size, shuffle = False)"
   ]
  },
  {
   "cell_type": "code",
   "execution_count": 20,
   "id": "f09a201e-1e59-475a-9a3b-9d264721cecc",
   "metadata": {},
   "outputs": [
    {
     "data": {
      "text/plain": [
       "188"
      ]
     },
     "execution_count": 20,
     "metadata": {},
     "output_type": "execute_result"
    }
   ],
   "source": [
    "num_batches = len(train_loader)\n",
    "num_batches"
   ]
  },
  {
   "cell_type": "code",
   "execution_count": 21,
   "id": "3811a2d4-1a97-499a-976a-a4a12aeca26e",
   "metadata": {},
   "outputs": [
    {
     "name": "stdout",
     "output_type": "stream",
     "text": [
      "torch.Size([128, 12, 207, 2]) torch.Size([128, 12, 207, 2])\n"
     ]
    }
   ],
   "source": [
    "for batch in train_loader:\n",
    "    print(batch['X'].shape, batch['y'].shape) # batch, time step, No sensor, feats\n",
    "    break"
   ]
  },
  {
   "cell_type": "code",
   "execution_count": 22,
   "id": "0b7372ec-a192-415e-9537-79f4aac08cc9",
   "metadata": {},
   "outputs": [],
   "source": [
    "device = torch.device(\"cuda\" if torch.cuda.is_available() else \"cpu\")"
   ]
  },
  {
   "cell_type": "code",
   "execution_count": 23,
   "id": "b1701ad7-ddae-42b5-bdc9-b90d3539af62",
   "metadata": {},
   "outputs": [],
   "source": [
    "class Lstm(nn.Module):\n",
    "    def __init__(self):\n",
    "        super().__init__()\n",
    "\n",
    "            \n",
    "        # TODO your input size shoud be number of nodes time feature dimention\n",
    "\n",
    "        # TODO Use your previous excersie model or use the LSTM from pytorch\n",
    "\n",
    "        # TODO add a fully connected layer\n",
    "\n",
    "    def forward(self, batch):\n",
    "        \n",
    "        # TODO \n",
    "\n",
    "        \n",
    "        for i in range(self.output_window):\n",
    "            # TODO use this loop to incrementally predict in the future\n",
    "            # Then concatenate the results\n",
    "\n",
    "        return outputs"
   ]
  },
  {
   "cell_type": "code",
   "execution_count": 24,
   "id": "614b8514-c94d-48e3-9583-58dca881a577",
   "metadata": {},
   "outputs": [],
   "source": [
    "# TODO define the model, optimizer and loss function"
   ]
  },
  {
   "cell_type": "code",
   "execution_count": 25,
   "id": "1ef4baf2-b4ce-4888-abc1-afbcfbf1f923",
   "metadata": {},
   "outputs": [],
   "source": [
    "def train(train_loader, valid_loader, epochs, model, optimizer, loss_fn):\n",
    "\n",
    "    min_val_loss = float('inf')\n",
    "    best_epoch = 0\n",
    "    train_time = []\n",
    "    eval_time = []\n",
    "    num_batches = len(train_loader)\n",
    "\n",
    "    for epoch_idx in range(epochs):\n",
    "        ### Train\n",
    "        model.train()\n",
    "        train_losses = []\n",
    "        for batch in train_loader:\n",
    "            optimizer.zero_grad()\n",
    "            \n",
    "            y_true = batch['y'][:,:,:,0,None].to(device) # We only predict speed\n",
    "            y_pred = model(batch)\n",
    "#             print(\"y_true: \", y_true.shape)\n",
    "#             print(\"y_pred: \", y_pred.shape)\n",
    "            \n",
    "            loss = loss_fn(y_pred, y_true)\n",
    "            \n",
    "            train_losses.append(loss.item())\n",
    "            loss.backward()\n",
    "            optimizer.step()\n",
    "            \n",
    "        mean_train_loss = np.mean(train_losses)\n",
    "        print(\"Train loss: \", mean_train_loss)\n",
    "        #### Valid\n",
    "        with torch.no_grad():\n",
    "            model.eval()\n",
    "            valid_losses = []\n",
    "            for batch in valid_loader:\n",
    "                y_true = batch['y'][:,:,:,0,None].to(device)\n",
    "                y_pred = model(batch)\n",
    "                \n",
    "                loss = loss_fn(y_pred, y_true)\n",
    "                valid_losses.append(loss.item())\n",
    "            mean_valid_loss = np.mean(valid_losses)\n",
    "            print('valid loss', mean_valid_loss)\n",
    "            \n",
    "    return train_losses, valid_losses"
   ]
  },
  {
   "cell_type": "code",
   "execution_count": null,
   "id": "e5428644-a8eb-437b-be5c-d982f3d3d63d",
   "metadata": {},
   "outputs": [],
   "source": [
    "train_losses, valid_losses = train(train_loader, valid_loader, 100, model, optimizer, loss_fn)"
   ]
  },
  {
   "cell_type": "code",
   "execution_count": null,
   "id": "0053bf3b-6810-4385-bb36-6d0c8b26f9c5",
   "metadata": {},
   "outputs": [],
   "source": [
    "# TODO do the same with GRU\n",
    "class Gru(nn.Module):\n",
    "    def __init__(self):\n",
    "        super().__init__()\n",
    "\n",
    "            \n",
    "        # TODO your input size shoud be number of nodes time feature dimention\n",
    "\n",
    "        # TODO Use your previous excersie model or use the GRU from pytorch\n",
    "\n",
    "        # TODO add a fully connected layer\n",
    "\n",
    "    def forward(self, batch):\n",
    "        \n",
    "        # TODO \n",
    "\n",
    "        \n",
    "        for i in range(self.output_window):\n",
    "            # TODO use this loop to incrementally predict in the future\n",
    "            # Then concatenate the results\n",
    "\n",
    "        return outputs"
   ]
  }
 ],
 "metadata": {
  "kernelspec": {
   "display_name": "py37",
   "language": "python",
   "name": "py37"
  },
  "language_info": {
   "codemirror_mode": {
    "name": "ipython",
    "version": 3
   },
   "file_extension": ".py",
   "mimetype": "text/x-python",
   "name": "python",
   "nbconvert_exporter": "python",
   "pygments_lexer": "ipython3",
   "version": "3.7.12"
  }
 },
 "nbformat": 4,
 "nbformat_minor": 5
}
